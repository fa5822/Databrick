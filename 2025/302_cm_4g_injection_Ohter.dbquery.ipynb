{
 "cells": [
  {
   "cell_type": "code",
   "execution_count": 0,
   "metadata": {
    "application/vnd.databricks.v1+cell": {
     "cellMetadata": {},
     "inputWidgets": {},
     "nuid": "958040a7-ba80-4701-96d6-6113cbd7d6c7",
     "showTitle": false,
     "tableResultSettingsMap": {},
     "title": ""
    }
   },
   "outputs": [],
   "source": [
    "\n",
    "\n",
    "DECLARE queryStr STRING;\n",
    "\n",
    "SET VAR queryStr = \"delete from  \"|| :Catalog ||\".v_\"|| :tableName  ||\"_wide  where day_id =  date_format(date_add(now(), \"|| :days ||\"),'yyyyMMdd'); \";\n",
    "EXECUTE IMMEDIATE queryStr;\n",
    "\n",
    "SET VAR queryStr = \"        \n",
    "        insert into  \"|| :Catalog ||\".v_\"|| :tableName  ||\"_wide  \n",
    "        with conf_market (select cast(SUB_MARKET_ID AS INT) SUB_MARKET_ID,SUB_MARKET_NAME,REGION,Time_Offset from hive_metastore.default.vz_conf_market)\n",
    "        select \n",
    "        B.Time_Offset,\n",
    "        REGION,A.* from (\n",
    "            select \n",
    "            case when LEN(ne_id)=5 then left(ne_id,2) else left(ne_id,3)  end SUB_MARKET_ID,            \n",
    "            * from \"|| :Catalog ||\".\"|| :tableName  ||\"  \n",
    "            where day_id =  date_format(date_add(now(), \"|| :days ||\"),'yyyyMMdd')\n",
    "        ) A\n",
    "        left join conf_market B on A.SUB_MARKET_ID=B.SUB_MARKET_ID ;\n",
    "\";\n",
    "EXECUTE IMMEDIATE queryStr;\n",
    "\n",
    "--select *  from  invt.cm_gold.v_cm_invt_fw_4g_wide  where day_id =  date_format(date_add(now(), -1),\"yyyyMMdd\"); \n"
   ]
  }
 ],
 "metadata": {
  "application/vnd.databricks.v1+notebook": {
   "computePreferences": null,
   "dashboards": [],
   "environmentMetadata": null,
   "inputWidgetPreferences": null,
   "language": "sql",
   "notebookMetadata": {
    "sqlQueryOptions": {
     "applyAutoLimit": false,
     "catalog": "hive_metastore",
     "schema": "default"
    }
   },
   "notebookName": "302_cm_4g_injection_Ohter.dbquery.ipynb",
   "widgets": {
    "Catalog": {
     "currentValue": "",
     "nuid": "e0b8410e-6867-48e7-a843-a836d8f740c6",
     "typedWidgetInfo": {
      "autoCreated": true,
      "defaultValue": "",
      "label": null,
      "name": "Catalog",
      "options": {
       "widgetDisplayType": "Text",
       "validationRegex": null
      },
      "parameterDataType": "String"
     },
     "widgetInfo": {
      "widgetType": "text",
      "defaultValue": "",
      "label": null,
      "name": "Catalog",
      "options": {
       "widgetType": "text",
       "autoCreated": true,
       "validationRegex": null
      }
     }
    },
    "days": {
     "currentValue": "",
     "nuid": "269b6eda-ab43-48d2-bf21-c2ea7aeb9a70",
     "typedWidgetInfo": {
      "autoCreated": true,
      "defaultValue": "",
      "label": null,
      "name": "days",
      "options": {
       "widgetDisplayType": "Text",
       "validationRegex": null
      },
      "parameterDataType": "String"
     },
     "widgetInfo": {
      "widgetType": "text",
      "defaultValue": "",
      "label": null,
      "name": "days",
      "options": {
       "widgetType": "text",
       "autoCreated": true,
       "validationRegex": null
      }
     }
    },
    "tableName": {
     "currentValue": "",
     "nuid": "d30be662-07e6-4754-9697-a51158b59edd",
     "typedWidgetInfo": {
      "autoCreated": true,
      "defaultValue": "",
      "label": null,
      "name": "tableName",
      "options": {
       "widgetDisplayType": "Text",
       "validationRegex": null
      },
      "parameterDataType": "String"
     },
     "widgetInfo": {
      "widgetType": "text",
      "defaultValue": "",
      "label": null,
      "name": "tableName",
      "options": {
       "widgetType": "text",
       "autoCreated": true,
       "validationRegex": null
      }
     }
    }
   }
  },
  "language_info": {
   "name": "sql"
  }
 },
 "nbformat": 4,
 "nbformat_minor": 0
}

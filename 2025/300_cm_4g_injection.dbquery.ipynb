{
 "cells": [
  {
   "cell_type": "code",
   "execution_count": 0,
   "metadata": {
    "application/vnd.databricks.v1+cell": {
     "cellMetadata": {},
     "inputWidgets": {},
     "nuid": "d3cd4c3a-3823-4cdb-b1fb-e4be2f8e24aa",
     "showTitle": false,
     "tableResultSettingsMap": {},
     "title": ""
    }
   },
   "outputs": [],
   "source": [
    "\n",
    "\n",
    "DECLARE queryStr STRING;\n",
    "\n",
    "SET VAR queryStr = \"delete from  \"|| :Catalog  ||\".v_\"|| :tableName  ||\"_wide  where day_id =  date_format(date_add(now(), \"|| :days  ||\"),'yyyyMMdd'); \";\n",
    "EXECUTE IMMEDIATE queryStr;\n",
    "\n",
    "SET VAR queryStr = \"        \n",
    "        insert into  \"|| :Catalog  ||\".v_\"|| :tableName  ||\"_wide  \n",
    "        with conf_market (select cast(SUB_MARKET_ID AS INT) SUB_MARKET_ID,SUB_MARKET_NAME,REGION,Time_Offset from hive_metastore.default.vz_conf_market)\n",
    "        select \n",
    "        case when B.Time_Offset=-5 then  convert_timezone('UTC','America/New_York',A.request_ts_utc) \n",
    "              when B.Time_Offset=-6 then  convert_timezone('UTC','America/Chicago',A.request_ts_utc) \n",
    "              when B.Time_Offset=-8 then  convert_timezone('UTC','America/Los_Angeles',A.request_ts_utc) \n",
    "          end request_ts_local,\n",
    "        REGION,A.* from (\n",
    "            select \n",
    "            case when LEN(ne_id)=5 then left(ne_id,2) else left(ne_id,3)  end SUB_MARKET_ID,            \n",
    "            * from \"|| :Catalog  ||\".\"|| :tableName  ||\"  \n",
    "            where day_id =  date_format(date_add(now(), \"|| :days  ||\"),'yyyyMMdd')\n",
    "        ) A\n",
    "        left join conf_market B on A.SUB_MARKET_ID=B.SUB_MARKET_ID ;\n",
    "\";\n",
    "EXECUTE IMMEDIATE queryStr;\n",
    "--select *  from  invt.cm_gold.v_cm_invt_fw_4g_wide  where day_id =  date_format(date_add(now(), -1),\"yyyyMMdd\"); \n"
   ]
  }
 ],
 "metadata": {
  "application/vnd.databricks.v1+notebook": {
   "computePreferences": null,
   "dashboards": [],
   "environmentMetadata": null,
   "inputWidgetPreferences": null,
   "language": "sql",
   "notebookMetadata": {
    "sqlQueryOptions": {
     "applyAutoLimit": true,
     "catalog": "hive_metastore",
     "schema": "default"
    }
   },
   "notebookName": "300_cm_4g_injection.dbquery.ipynb",
   "widgets": {
    "Catalog": {
     "currentValue": "invt.cm_gold",
     "nuid": "c3a73780-f025-4097-ad19-6b4ae288ee78",
     "typedWidgetInfo": {
      "autoCreated": false,
      "defaultValue": "invt.cm_gold",
      "label": "Catalog",
      "name": "Catalog",
      "options": {
       "widgetDisplayType": "Text",
       "validationRegex": null
      },
      "parameterDataType": "String"
     },
     "widgetInfo": {
      "widgetType": "text",
      "defaultValue": "invt.cm_gold",
      "label": "Catalog",
      "name": "Catalog",
      "options": {
       "widgetType": "text",
       "autoCreated": false,
       "validationRegex": null
      }
     }
    },
    "days": {
     "currentValue": "-2",
     "nuid": "2c863df8-211d-4059-a469-e1d7d43b06f4",
     "typedWidgetInfo": {
      "autoCreated": false,
      "defaultValue": "-2",
      "label": "days",
      "name": "days",
      "options": {
       "widgetDisplayType": "Text",
       "validationRegex": null
      },
      "parameterDataType": "Integer"
     },
     "widgetInfo": {
      "widgetType": "text",
      "defaultValue": "-2",
      "label": "days",
      "name": "days",
      "options": {
       "widgetType": "text",
       "autoCreated": false,
       "validationRegex": null
      }
     }
    },
    "tableName": {
     "currentValue": "cm_changes_4g",
     "nuid": "ae15ee88-43c5-485b-a8de-d43efd9c66e4",
     "typedWidgetInfo": {
      "autoCreated": false,
      "defaultValue": "cm_changes_4g",
      "label": "tableName",
      "name": "tableName",
      "options": {
       "widgetDisplayType": "Text",
       "validationRegex": null
      },
      "parameterDataType": "String"
     },
     "widgetInfo": {
      "widgetType": "text",
      "defaultValue": "cm_changes_4g",
      "label": "tableName",
      "name": "tableName",
      "options": {
       "widgetType": "text",
       "autoCreated": false,
       "validationRegex": null
      }
     }
    }
   }
  },
  "language_info": {
   "name": "sql"
  }
 },
 "nbformat": 4,
 "nbformat_minor": 0
}

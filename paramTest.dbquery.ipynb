{
 "cells": [
  {
   "cell_type": "code",
   "execution_count": 0,
   "metadata": {
    "application/vnd.databricks.v1+cell": {
     "cellMetadata": {},
     "inputWidgets": {},
     "nuid": "149fab0d-d4bc-473e-9b17-9bdca9828589",
     "showTitle": false,
     "tableResultSettingsMap": {},
     "title": ""
    }
   },
   "outputs": [],
   "source": [
    "use apachedataingestion.nr;\n",
    "\n",
    "SELECT  *\n",
    "\t\t\t\tfrom apachedataingestion.nr.totalprbusage_nr_hr_silver a\n",
    "\t\t\t\tWHERE 5=5 and  Daily  =  date_format(date_add(now(), {{ days }}),\"yyyy-MM-dd\")  and NE_NAME like '%07200010024%' and location='CellIdentity385' order by hourly;"
   ]
  }
 ],
 "metadata": {
  "application/vnd.databricks.v1+notebook": {
   "computePreferences": null,
   "dashboards": [],
   "environmentMetadata": null,
   "inputWidgetPreferences": null,
   "language": "sql",
   "notebookMetadata": {
    "pythonIndentUnit": 4,
    "sqlQueryOptions": {
     "applyAutoLimit": true,
     "catalog": "hive_metastore",
     "schema": "default"
    }
   },
   "notebookName": "paramTest.dbquery.ipynb",
   "widgets": {
    "days": {
     "currentValue": "-3",
     "nuid": "1e08e7b0-4c42-4a99-ae07-ec74a8e9e382",
     "typedWidgetInfo": {
      "autoCreated": false,
      "defaultValue": "-3",
      "label": "days",
      "name": "days",
      "options": {
       "widgetDisplayType": "Text",
       "validationRegex": null
      },
      "parameterDataType": "Integer"
     },
     "widgetInfo": {
      "widgetType": "text",
      "defaultValue": "-3",
      "label": "days",
      "name": "days",
      "options": {
       "widgetType": "text",
       "autoCreated": false,
       "validationRegex": null
      }
     }
    }
   }
  },
  "language_info": {
   "name": "sql"
  }
 },
 "nbformat": 4,
 "nbformat_minor": 0
}

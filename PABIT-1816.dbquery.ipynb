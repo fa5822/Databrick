{
 "cells": [
  {
   "cell_type": "code",
   "execution_count": 0,
   "metadata": {
    "application/vnd.databricks.v1+cell": {
     "cellMetadata": {},
     "inputWidgets": {},
     "nuid": "cee6d175-1fb4-427b-87e4-acf65e76d462",
     "showTitle": false,
     "tableResultSettingsMap": {},
     "title": ""
    }
   },
   "outputs": [
    {
     "output_type": "display_data",
     "data": {
      "text/plain": [
       "Databricks visualization. Run in Databricks to view."
      ]
     },
     "metadata": {
      "application/vnd.databricks.v1.subcommand+json": {
       "baseErrorDetails": null,
       "bindings": {},
       "collapsed": false,
       "command": "%sql WITH q AS (insert into hive_metastore.default.vz_conf_market ( SUB_MARKET_ID\t,SUB_MARKET_NAME,\tREGION,\tTime_Offset,\tIRIS_MMEPOOL,\tREGION_SILVER_TB\t,IRIS_REGION) values\n ('187','Oklahoma','Central Texas','-6','South Central','Central Texas','South Central' )) SELECT `CalendarDate`,COUNT(`S5NC_AvgRRC_SA_Denom`) `column_eba6515820`,`k` FROM q GROUP BY `CalendarDate`,`k`",
       "commandTitle": "Line 1",
       "commandType": "auto",
       "commandVersion": 0,
       "commentThread": [],
       "commentsVisible": false,
       "contentSha256Hex": null,
       "customPlotOptions": {
        "redashChart": [
         {
          "key": "type",
          "value": "CHART"
         },
         {
          "key": "options",
          "value": {
           "alignYAxesAtZero": true,
           "coefficient": 1,
           "columnConfigurationMap": {
            "series": {
             "column": "k",
             "id": "column_eba6515829"
            },
            "x": {
             "column": "CalendarDate",
             "id": "column_eba6515812"
            },
            "y": [
             {
              "column": "S5NC_AvgRRC_SA_Denom",
              "id": "column_eba6515820",
              "transform": "COUNT"
             }
            ]
           },
           "condensed": true,
           "dateTimeFormat": "YYYY-MM-DD HH:mm",
           "direction": {
            "type": "counterclockwise"
           },
           "error_y": {
            "type": "data",
            "visible": true
           },
           "globalSeriesType": "line",
           "hideXAxis": false,
           "hideYAxes": false,
           "isAggregationOn": true,
           "legend": {
            "traceorder": "normal"
           },
           "missingValuesAsZero": true,
           "numberFormat": "0,0.[00000]",
           "percentFormat": "0[.]00%",
           "series": {
            "error_y": {
             "type": "data",
             "visible": true
            },
            "stacking": null
           },
           "seriesOptions": {
            "column_eba6515820": {
             "type": "line",
             "yAxis": 0
            },
            "column_eba6515841": {
             "type": "line",
             "yAxis": 0
            },
            "new, SUM(S5NC_AvgRRC_SA_Denom)": {
             "yAxis": 1
            },
            "old, COUNT(S5NC_AvgRRC_SA_Denom)": {
             "yAxis": 0
            },
            "old, SUM(S5NC_AvgRRC_SA_Denom)": {
             "yAxis": 1
            }
           },
           "showDataLabels": false,
           "sizemode": "diameter",
           "sortX": true,
           "sortY": true,
           "swappedAxes": false,
           "textFormat": "",
           "useAggregationsUi": true,
           "valuesOptions": {},
           "version": 2,
           "withRowNumber": true,
           "xAxis": {
            "labels": {
             "enabled": true
            },
            "type": "-"
           },
           "yAxis": [
            {
             "type": "-"
            },
            {
             "opposite": true,
             "type": "-"
            }
           ]
          }
         }
        ]
       },
       "datasetPreviewNameToCmdIdMap": {},
       "diffDeletes": [],
       "diffInserts": [],
       "displayType": "redashChart",
       "error": null,
       "errorDetails": null,
       "errorSummary": null,
       "errorTraceType": null,
       "finishTime": 0,
       "globalVars": {},
       "guid": "",
       "height": "auto",
       "hideCommandCode": false,
       "hideCommandResult": false,
       "iPythonMetadata": null,
       "inputWidgets": {},
       "isLockedInExamMode": false,
       "latestUser": "a user",
       "latestUserId": null,
       "listResultMetadata": null,
       "metadata": {},
       "nuid": "e78f24d3-f754-4eeb-9726-4b86d6960859",
       "origId": 0,
       "parentHierarchy": [],
       "pivotAggregation": null,
       "pivotColumns": null,
       "position": 2.0,
       "resultDbfsErrorMessage": null,
       "resultDbfsStatus": "INLINED_IN_TREE",
       "results": null,
       "showCommandTitle": false,
       "startTime": 0,
       "state": "input",
       "streamStates": {},
       "subcommandOptions": {
        "queryPlan": {
         "groups": [
          {
           "column": "CalendarDate",
           "type": "column"
          },
          {
           "column": "k",
           "type": "column"
          }
         ],
         "selects": [
          {
           "column": "CalendarDate",
           "type": "column"
          },
          {
           "alias": "column_eba6515820",
           "args": [
            {
             "column": "S5NC_AvgRRC_SA_Denom",
             "type": "column"
            }
           ],
           "function": "COUNT",
           "type": "function"
          },
          {
           "column": "k",
           "type": "column"
          }
         ]
        },
        "redashId": "73bf86a3-4703-4709-a738-9c69ea767a79",
        "redashLastUpdated": 1731109811000
       },
       "submitTime": 0,
       "subtype": "tableResultSubCmd.visualization",
       "tableResultIndex": 0,
       "tableResultSettingsMap": {},
       "useConsistentColors": false,
       "version": "CommandV1",
       "width": "auto",
       "workflows": null,
       "xColumns": null,
       "yColumns": null
      }
     },
     "output_type": "display_data"
    },
    {
     "output_type": "display_data",
     "data": {
      "text/plain": [
       "Databricks visualization. Run in Databricks to view."
      ]
     },
     "metadata": {
      "application/vnd.databricks.v1.subcommand+json": {
       "baseErrorDetails": null,
       "bindings": {},
       "collapsed": false,
       "command": "\nselect 'old' k,CalendarDate, du_id,sum(s5nuc_ul_pdcp_datavolume_mb) s5nuc_ul_pdcp_datavolume_mb,sum(S5NC_AvgRRC_SA_Num) S5NC_AvgRRC_SA_Num,sum(S5NC_AvgRRC_SA_Denom) S5NC_AvgRRC_SA_Denom from apachedataingestion.nr.widetable_5g_SA_hr_gold2\nwhere du_id in ('VZ_07393013087','VZ_07393013089','VZ_07393013029','VZ_07393033187','VZ_07393033248','VZ_07393013006','VZ_07393013215','VZ_07393013047')\nand CalendarDate >= date_format(date_add(now(), -35),\"yyyy-MM-dd\")  and S5NC_AvgRRC_SA_num = 0\ngroup by CalendarDate,du_id\nunion all\nselect 'new' k,CalendarDate, du_id,sum(s5nuc_ul_pdcp_datavolume_mb) s5nuc_ul_pdcp_datavolume_mb,sum(S5NC_AvgRRC_SA_Num) S5NC_AvgRRC_SA_Num,sum(S5NC_AvgRRC_SA_Denom) S5NC_AvgRRC_SA_Denom from apachedataingestion.nr.widetable_5g_SA_hr_gold2\nwhere du_id in ('VZ_07393013246','VZ_07393013051','VZ_07393013002','VZ_07393033182','VZ_07393033084','VZ_07393013257','VZ_07393013129','VZ_07393013125')\nand CalendarDate >= date_format(date_add(now(), -35),\"yyyy-MM-dd\")   --and S5NC_AvgRRC_SA_num = 0\ngroup by CalendarDate,du_id\n\t\n\n\nselect date_format(date_add(now(), -32),\"yyyy-MM-dd\"),date_format(date_add(now(), -26),\"yyyy-MM-dd\")\n\n\n  select CalendarDate,du_id,S5NC_AvgRRC_SA_Num, S5NC_AvgRRC_SA_Denom,s5nuc_ul_pdcp_datavolume_mb from apachedataingestion.nr.widetable_5g_SA_hr_gold2\nwhere du_id in ('VZ_07393013246')\n\n\n\n select SUB_MARKET_ID\t,SUB_MARKET_NAME,\tREGION,\tTime_Offset,\tIRIS_MMEPOOL,\tREGION_SILVER_TB\t,IRIS_REGION from hive_metastore.default.vz_conf_market order by 1;\n\n \n select * \n -- delete\n from hive_metastore.default.vz_conf_market where SUB_MARKET_ID=187;\n\n insert into hive_metastore.default.vz_conf_market ( SUB_MARKET_ID\t,SUB_MARKET_NAME,\tREGION,\tTime_Offset,\tIRIS_MMEPOOL,\tREGION_SILVER_TB\t,IRIS_REGION) values\n ('187','Oklahoma','Central Texas','-6','South Central','Central Texas','South Central' );\n\n",
       "commandTitle": "Results",
       "commandType": "auto",
       "commandVersion": 0,
       "commentThread": [],
       "commentsVisible": false,
       "contentSha256Hex": null,
       "customPlotOptions": {
        "redashChart": [
         {
          "key": "type",
          "value": "TABLE"
         },
         {
          "key": "options",
          "value": {
           "version": 2
          }
         }
        ]
       },
       "datasetPreviewNameToCmdIdMap": {},
       "diffDeletes": [],
       "diffInserts": [],
       "displayType": "redashChart",
       "error": null,
       "errorDetails": null,
       "errorSummary": null,
       "errorTraceType": null,
       "finishTime": 0,
       "globalVars": {},
       "guid": "",
       "height": "auto",
       "hideCommandCode": false,
       "hideCommandResult": false,
       "iPythonMetadata": null,
       "inputWidgets": {},
       "isLockedInExamMode": false,
       "latestUser": "a user",
       "latestUserId": null,
       "listResultMetadata": null,
       "metadata": {},
       "nuid": "20732de6-25c8-42b3-8262-9a7718db01eb",
       "origId": 0,
       "parentHierarchy": [],
       "pivotAggregation": null,
       "pivotColumns": null,
       "position": 3.0,
       "resultDbfsErrorMessage": null,
       "resultDbfsStatus": "INLINED_IN_TREE",
       "results": null,
       "showCommandTitle": false,
       "startTime": 0,
       "state": "input",
       "streamStates": {},
       "subcommandOptions": {
        "redashId": "c7272581-3880-43db-a5d3-90e542bdab87",
        "redashLastUpdated": 1731102774000
       },
       "submitTime": 0,
       "subtype": "tableResultSubCmd.visualization",
       "tableResultIndex": 0,
       "tableResultSettingsMap": {},
       "useConsistentColors": false,
       "version": "CommandV1",
       "width": "auto",
       "workflows": null,
       "xColumns": null,
       "yColumns": null
      }
     },
     "output_type": "display_data"
    }
   ],
   "source": [
    "\n",
    "select 'old' k,CalendarDate, du_id,sum(s5nuc_ul_pdcp_datavolume_mb) s5nuc_ul_pdcp_datavolume_mb,sum(S5NC_AvgRRC_SA_Num) S5NC_AvgRRC_SA_Num,sum(S5NC_AvgRRC_SA_Denom) S5NC_AvgRRC_SA_Denom from apachedataingestion.nr.widetable_5g_SA_hr_gold2\n",
    "where du_id in ('VZ_07393013087','VZ_07393013089','VZ_07393013029','VZ_07393033187','VZ_07393033248','VZ_07393013006','VZ_07393013215','VZ_07393013047')\n",
    "and CalendarDate >= date_format(date_add(now(), -35),\"yyyy-MM-dd\")  and S5NC_AvgRRC_SA_num = 0\n",
    "group by CalendarDate,du_id\n",
    "union all\n",
    "select 'new' k,CalendarDate, du_id,sum(s5nuc_ul_pdcp_datavolume_mb) s5nuc_ul_pdcp_datavolume_mb,sum(S5NC_AvgRRC_SA_Num) S5NC_AvgRRC_SA_Num,sum(S5NC_AvgRRC_SA_Denom) S5NC_AvgRRC_SA_Denom from apachedataingestion.nr.widetable_5g_SA_hr_gold2\n",
    "where du_id in ('VZ_07393013246','VZ_07393013051','VZ_07393013002','VZ_07393033182','VZ_07393033084','VZ_07393013257','VZ_07393013129','VZ_07393013125')\n",
    "and CalendarDate >= date_format(date_add(now(), -35),\"yyyy-MM-dd\")   --and S5NC_AvgRRC_SA_num = 0\n",
    "group by CalendarDate,du_id\n",
    "\t\n",
    "\n",
    "\n",
    "select date_format(date_add(now(), -32),\"yyyy-MM-dd\"),date_format(date_add(now(), -26),\"yyyy-MM-dd\")\n",
    "\n",
    "\n",
    "  select CalendarDate,du_id,S5NC_AvgRRC_SA_Num, S5NC_AvgRRC_SA_Denom,s5nuc_ul_pdcp_datavolume_mb from apachedataingestion.nr.widetable_5g_SA_hr_gold2\n",
    "where du_id in ('VZ_07393013246')\n",
    "\n",
    "\n",
    "\n",
    " select SUB_MARKET_ID\t,SUB_MARKET_NAME,\tREGION,\tTime_Offset,\tIRIS_MMEPOOL,\tREGION_SILVER_TB\t,IRIS_REGION from hive_metastore.default.vz_conf_market order by 1;\n",
    "\n",
    " \n",
    " select * \n",
    " -- delete\n",
    " from hive_metastore.default.vz_conf_market where SUB_MARKET_ID=187;\n",
    "\n",
    " insert into hive_metastore.default.vz_conf_market ( SUB_MARKET_ID\t,SUB_MARKET_NAME,\tREGION,\tTime_Offset,\tIRIS_MMEPOOL,\tREGION_SILVER_TB\t,IRIS_REGION) values\n",
    " ('187','Oklahoma','Central Texas','-6','South Central','Central Texas','South Central' );\n",
    "\n"
   ]
  }
 ],
 "metadata": {
  "application/vnd.databricks.v1+notebook": {
   "computePreferences": null,
   "dashboards": [],
   "environmentMetadata": null,
   "inputWidgetPreferences": null,
   "language": "sql",
   "notebookMetadata": {
    "sqlQueryOptions": {
     "applyAutoLimit": true,
     "catalog": "hive_metastore",
     "schema": "default"
    }
   },
   "notebookName": "PABIT-1816.dbquery.ipynb",
   "widgets": {}
  },
  "language_info": {
   "name": "sql"
  }
 },
 "nbformat": 4,
 "nbformat_minor": 0
}

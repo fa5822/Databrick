{
 "cells": [
  {
   "cell_type": "code",
   "execution_count": 0,
   "metadata": {
    "application/vnd.databricks.v1+cell": {
     "cellMetadata": {},
     "inputWidgets": {},
     "nuid": "d8a7ad96-c1df-4323-80d7-ac81be7e915d",
     "showTitle": false,
     "tableResultSettingsMap": {},
     "title": ""
    }
   },
   "outputs": [],
   "source": [
    "/*\n",
    "\n",
    "delete from hive_metastore.`default`.jwk_mapping_remove;\n",
    "\n",
    "insert into hive_metastore.default.jwk_mapping_remove \n",
    "with  t_cellunavailabletime_nr_hr_silver as (\n",
    "      SELECT  concat('VZ_',left(REGEXP_REPLACE(NE_NAME, '[^0-9]', ''),7)) GNODEB_ID,concat('VZ_',left(REGEXP_REPLACE(NE_NAME, '[^0-9]', ''),11)) DU_ID,replace(split(a.LOCATION,'/')[0],'CellIdentity','') GCELL_ID\n",
    "\t\t\t\tfrom apachedataingestion.nr.cellunavailabletime_nr_hr_silver    a\n",
    "                WHERE 5=5 and  Daily  >=  date_format(date_add(now(), -10),\"yyyy-MM-dd\") \n",
    "\t\t\t\tGROUP BY 1,2,3\n",
    "\n",
    "),\n",
    "t_vz_conf_gnode_du_gcell_silver as (\n",
    "select  distinct substring(DU_ID,1,10) GNODEB_ID,DU_ID,GCELL_ID\n",
    "                  \t\tfrom hive_metastore.`default`.vz_conf_gnode_du_gcell_silver  where not(length(GNODEB_ID) < 10 or length(du_id) < 14) \n",
    "\n",
    ")\n",
    "select \n",
    "COALESCE(a.GNODEB_ID,b.GNODEB_ID) gNB_ID,\n",
    "COALESCE(a.DU_ID,b.DU_ID) DU_ID,\n",
    "COALESCE(a.GCELL_ID,b.GCELL_ID) CellIdentity\n",
    " from t_vz_conf_gnode_du_gcell_silver a \n",
    "full join t_cellunavailabletime_nr_hr_silver b on a.GNODEB_ID=b.GNODEB_ID and a.DU_ID=b.DU_ID and a.GCELL_ID=b.GCELL_ID\n",
    "where \n",
    "a.GNODEB_ID is null  or\n",
    "b.GNODEB_ID  is null or \n",
    "a.DU_ID  is null     or \n",
    "b.DU_ID  is null     or \n",
    "a.GCELL_ID  is null  or\n",
    "b.GCELL_ID  is null;\n",
    "\n",
    "*/\n",
    "\n",
    "\n",
    "\n",
    "\n",
    "--delete from hive_metastore.`default`.jwk_mapping_live;\n",
    "\n",
    "merge into hive_metastore.`default`.jwk_mapping_live as gold\n",
    "using ( \n",
    "        --create table  hive_metastore.`default`.jwk_mapping_live as\n",
    "        select distinct case when length(gNB_ID)=6 then concat('0',gNB_ID) else gNB_ID end gNB_ID ,case when length(du_id)=10 then concat('0',DU_ID) else DU_ID end du_id ,CellIdentity from (\n",
    "            /*select replace(split(LOCATION,'/')[0],'gNB_ID','') gNB_ID,replace(split(LOCATION,'/')[1],'gNB_DU_ID','') DU_ID,replace(split(LOCATION,'/')[2],'CellIdentity','') CellIdentity \n",
    "                --from hive_metastore.`default`.jwk_mapping where tb like '%cucpcslpergnbwithduidentifierhexabronze%'\n",
    "                from usm.nr.cucpcslpergnbwithduidentifierhexabronze  where init_time  =  date_format(date_add(now(), {{ days }}),\"yyyy-MM-dd\")  and hour(init_time)=0\n",
    "            union all */\n",
    "            select replace(split(LOCATION,'/')[0],'gNB_ID','') gNB_ID,replace(split(LOCATION,'/')[1],'gNB_DU_ID','') DU_ID,replace(split(LOCATION,'/')[2],'CellIdentity','') CellIdentity                 \n",
    "                --from usm.nr.intersnpscellchangepergnbwithduidentifierbronze  where init_time  =  date_format(date_add(now(), {{ days }}),\"yyyy-MM-dd\")  and hour(init_time)=0\n",
    "                from apachedataingestion.nr.intersnpscellchangepergnbwithduidentifier_nr_hr_silver  where Daily  =  date_format(date_add(now(), {{ days }}),\"yyyy-MM-dd\")  and hourly=0                 \n",
    "            union all\n",
    "            select replace(split(LOCATION,'/')[0],'gNB_ID','') gNB_ID,replace(split(LOCATION,'/')[1],'gNB_DU_ID','') DU_ID,replace(split(LOCATION,'/')[2],'CellIdentityWithInvalid','') CellIdentity                 \n",
    "                --from usm.nr.sgnbadditionpergnbwithduidentifierbronze  where init_time  =  date_format(date_add(now(), {{ days }}),\"yyyy-MM-dd\")  and hour(init_time)=0\n",
    "                from apachedataingestion.nr.sgnbadditionpergnbwithduidentifier_hr_silver  where Daily  =  date_format(date_add(now(), {{ days }}),\"yyyy-MM-dd\")  and hourly=0\n",
    "            union all\n",
    "            select replace(split(LOCATION,'/')[1],'gNB_ID','') gNB_ID,replace(split(LOCATION,'/')[2],'gNB_DU_ID','') DU_ID,replace(split(LOCATION,'/')[3],'CellIdentity','') CellIdentity                 \n",
    "                --from usm.nr.ueconnectionnumberpergnbwithduidentifierbronze  where init_time  =  date_format(date_add(now(), {{ days }}),\"yyyy-MM-dd\")  and hour(init_time)=0\n",
    "                from apachedataingestion.nr.ueconnectionnumberpergnbwithduidentifier_nr_hr_silver  where Daily  =  date_format(date_add(now(), {{ days }}),\"yyyy-MM-dd\")  and hourly=0\n",
    "            union all\n",
    "            select replace(split(LOCATION,'/')[0],'gNB_ID','') gNB_ID,replace(split(LOCATION,'/')[1],'gNB_DU_ID','') DU_ID,replace(split(LOCATION,'/')[2],'CellIdentity','') CellIdentity                 \n",
    "                --from usm.nr.intrasnpscellchangepergnbwithduidentifierbronze  where init_time  =  date_format(date_add(now(), {{ days }}),\"yyyy-MM-dd\")  and hour(init_time)=0\n",
    "                from apachedataingestion.nr.intrasnpscellchangepergnbwithduidentifier_nr_hr_silver  where Daily  =  date_format(date_add(now(), {{ days }}),\"yyyy-MM-dd\")  and hourly=0\n",
    "            union all\n",
    "            select replace(split(LOCATION,'/')[0],'gNB_ID','') gNB_ID,replace(split(LOCATION,'/')[1],'gNB_DU_ID','') DU_ID,replace(split(LOCATION,'/')[2],'CellIdentity','') CellIdentity                 \n",
    "                --from usm.nr.erabadditionpergnbwithduidentifierbronze  where init_time  =  date_format(date_add(now(), {{ days }}),\"yyyy-MM-dd\")  and hour(init_time)=0\n",
    "                from apachedataingestion.nr.erabadditionpergnbwithduidentifier_hr_silver  where Daily  =  date_format(date_add(now(), {{ days }}),\"yyyy-MM-dd\")  and hourly=0\n",
    "                \n",
    "        ) x\n",
    ") as bronze\n",
    "on gold.gNB_ID=bronze.gNB_ID and gold.DU_ID=bronze.DU_ID and gold.CellIdentity=bronze.CellIdentity\n",
    "when matched then update set *\n",
    "when not matched then insert *;\n",
    "\n",
    "-- select gNB_ID,DU_ID,CellIdentity from hive_metastore.`default`.jwk_mapping_live;\n",
    "-- select length(gNB_ID),count(*) from hive_metastore.`default`.jwk_mapping_live group by length(gNB_ID);\n",
    "\n",
    "delete \n",
    "-- select *\n",
    "from hive_metastore.`default`.jwk_mapping_live where length(du_id) < 10;\n",
    "\n",
    "\n",
    "\n",
    "\n",
    "delete from hive_metastore.default.jwk_mapping_live_4remove;\n",
    "\n",
    "with aaa (\n",
    "select GNODEB_ID,GCELL_ID,count(distinct DU_ID) from (select gNB_ID GNODEB_ID,CellIdentity GCELL_ID,DU_ID from hive_metastore.`default`.jwk_mapping_live) group by GNODEB_ID,GCELL_ID having count(distinct DU_ID)>1 -- 2 retruns\n",
    "),\n",
    "bbb (\n",
    "select a.GNODEB_ID,a.DU_ID,a.GCELL_ID from (select gNB_ID GNODEB_ID,CellIdentity GCELL_ID,DU_ID from hive_metastore.`default`.jwk_mapping_live) a inner join aaa b on a.GNODEB_ID=b.GNODEB_ID and a.GCELL_ID=b.GCELL_ID   -- comfare to conf\n",
    ")\n",
    "insert into hive_metastore.default.jwk_mapping_live_4remove\n",
    "select DU_ID,GCELL_ID from bbb where (DU_ID,GCELL_ID) not in (\n",
    "                        select b.DU_ID,b.GCELL_ID\n",
    "                        from apachedataingestion.nr.cellunavailabletime_nr_hr_silver a\n",
    "                        inner join bbb b on left(REGEXP_REPLACE(NE_NAME, '[^0-9]', ''),11)=b.DU_ID and replace(a.LOCATION,'CellIdentity','')=b.gcell_id\n",
    "                        where Daily  >=  date_format(date_add(now(), -1),\"yyyy-MM-dd\") \n",
    "                        group by b.DU_ID,b.GCELL_ID\n",
    ");\n",
    "/*\n",
    "select * from hive_metastore.default.jwk_mapping_live_4remove where GCELL_ID='995';\n",
    "select * from hive_metastore.default.jwk_mapping_live where gNB_id= '1260129' and CellIdentity='995';\n",
    "*/\n",
    "\n",
    "\n",
    "delete \n",
    "from hive_metastore.default.jwk_mapping_live A where EXISTS (\n",
    "        select DU_ID,GCELL_ID from hive_metastore.default.jwk_mapping_live_4remove WHERE A.DU_ID = DU_ID AND A.CellIdentity = GCELL_ID\n",
    " );\n"
   ]
  }
 ],
 "metadata": {
  "application/vnd.databricks.v1+notebook": {
   "computePreferences": null,
   "dashboards": [],
   "environmentMetadata": null,
   "language": "sql",
   "notebookMetadata": {
    "pythonIndentUnit": 4,
    "sqlQueryOptions": {
     "applyAutoLimit": true,
     "catalog": "hive_metastore",
     "schema": "default"
    }
   },
   "notebookName": "(Clone) 101_jwk_mapping.dbquery.ipynb",
   "widgets": {
    "days": {
     "currentValue": "-1",
     "nuid": "74e74509-3960-478d-b238-2ad1aa30a914",
     "typedWidgetInfo": {
      "autoCreated": false,
      "defaultValue": "-1",
      "label": "days",
      "name": "days",
      "options": {
       "widgetDisplayType": "Text",
       "validationRegex": null
      },
      "parameterDataType": "Integer"
     },
     "widgetInfo": {
      "widgetType": "text",
      "defaultValue": "-1",
      "label": "days",
      "name": "days",
      "options": {
       "widgetType": "text",
       "autoCreated": false,
       "validationRegex": null
      }
     }
    }
   }
  },
  "language_info": {
   "name": "sql"
  }
 },
 "nbformat": 4,
 "nbformat_minor": 0
}

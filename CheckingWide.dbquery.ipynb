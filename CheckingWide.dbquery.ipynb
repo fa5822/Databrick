{
 "cells": [
  {
   "cell_type": "code",
   "execution_count": 0,
   "metadata": {
    "application/vnd.databricks.v1+cell": {
     "cellMetadata": {
      "byteLimit": 10485760,
      "rowLimit": 1000
     },
     "inputWidgets": {},
     "nuid": "0595e7a7-a0fc-46ee-afac-3cd22842a2f8",
     "showTitle": false,
     "tableResultSettingsMap": {},
     "title": ""
    }
   },
   "outputs": [
    {
     "output_type": "display_data",
     "data": {
      "text/plain": [
       "Databricks visualization. Run in Databricks to view."
      ]
     },
     "metadata": {
      "application/vnd.databricks.v1.subcommand+json": {
       "baseErrorDetails": null,
       "bindings": {},
       "collapsed": false,
       "command": "%sql WITH q AS (select * from (\n    select '1.widetable_4g_site_gold_WL' tb,date_format(D_DTM,\"yyyy-MM-dd\") D_DTM,count(*) ctx from hive_metastore.default.widetable_4g_site_gold WHERE  D_DTM >= date_format(date_add(now(), -10),\"yyyy-MM-dd\") group by date_format(D_DTM,\"yyyy-MM-dd\")\nunion all\n    select '1.widetable_4g_site_gold_SEA' tb,date_format(D_DTM,\"yyyy-MM-dd\") D_DTM,count(*) ctx from apachedataingestion.lte.widetable_4g_site_gold2 WHERE  D_DTM >= date_format(date_add(now(), -10),\"yyyy-MM-dd\") group by date_format(D_DTM,\"yyyy-MM-dd\")\n\nunion all\n    select '3.widetable_5g_cell_hr_gold_WL' tb,date_format(CalendarDate,\"yyyy-MM-dd\")  D_DTM,count(*) ctx from hive_metastore.default.widetable_5g_cell_hr_gold WHERE  CalendarDate >= date_format(date_add(now(), -10),\"yyyy-MM-dd\") group by date_format(CalendarDate,\"yyyy-MM-dd\")\nunion all\n    select '3.widetable_5g_cell_hr_gold_SEA' tb,date_format(CalendarDate,\"yyyy-MM-dd\")  D_DTM,count(*) ctx from apachedataingestion.nr.widetable_5g_cell_hr_gold2 WHERE  CalendarDate >= date_format(date_add(now(), -10),\"yyyy-MM-dd\") group by date_format(CalendarDate,\"yyyy-MM-dd\")\nunion all\nselect '3.widetable_5g_SA_hr_gold2' tb,date_format(CalendarDate,\"yyyy-MM-dd\")  D_DTM,count(*) ctx from apachedataingestion.nr.widetable_5g_SA_hr_gold2 WHERE  CalendarDate >= date_format(date_add(now(), -10),\"yyyy-MM-dd\") group by date_format(CalendarDate,\"yyyy-MM-dd\")\nunion all\nselect '3.widetable_5g_SPID_RFSP_hr_gold2' tb,date_format(CalendarDate,\"yyyy-MM-dd\")  D_DTM,count(*) ctx from apachedataingestion.nr.widetable_5g_SPID_RFSP_hr_gold2 WHERE  CalendarDate >= date_format(date_add(now(), -10),\"yyyy-MM-dd\") group by date_format(CalendarDate,\"yyyy-MM-dd\")\nunion all\n    select '0.jwk_mapping_live' tb,date_format(now(),\"yyyy-MM-dd\") D_DTM,count(*) ctx from hive_metastore.`default`.jwk_mapping_live \nunion all\n    select '4.widetable_5g_du_hr_gold_WL' tb,date_format(CalendarDate,\"yyyy-MM-dd\") D_DTM ,count(*) ctx from hive_metastore.default.widetable_5g_du_hr_gold WHERE  CalendarDate >= date_format(date_add(now(), -10),\"yyyy-MM-dd\")  group by date_format(CalendarDate,\"yyyy-MM-dd\")\nunion all\n    select '4.widetable_5g_du_hr_gold_SEA' tb,date_format(CalendarDate,\"yyyy-MM-dd\") D_DTM ,count(*) ctx from  apachedataingestion.nr.widetable_5g_du_hr_gold2 WHERE  CalendarDate >= date_format(date_add(now(), -10),\"yyyy-MM-dd\")  group by date_format(CalendarDate,\"yyyy-MM-dd\")    \nunion all\n    select '5.widetable_5g_gNB_hr_gold_WL' tb,date_format(CalendarDate,\"yyyy-MM-dd\") D_DTM ,count(*) ctx from hive_metastore.default.widetable_5g_gNB_hr_gold  WHERE  CalendarDate >= date_format(date_add(now(), -10),\"yyyy-MM-dd\") group by date_format(CalendarDate,\"yyyy-MM-dd\")\nunion all\n    select '5.widetable_5g_gNB_hr_gold_SEA' tb,date_format(CalendarDate,\"yyyy-MM-dd\") D_DTM ,count(*) ctx from apachedataingestion.nr.widetable_5g_gNB_hr_gold2 WHERE  CalendarDate >= date_format(date_add(now(), -10),\"yyyy-MM-dd\") group by date_format(CalendarDate,\"yyyy-MM-dd\")    \nunion all\n    select '2.widetable_4g_qci_gold_WL' tb,date_format(D_DTM,\"yyyy-MM-dd\") D_DTM,count(*) ctx from hive_metastore.default.widetable_4g_qci_gold WHERE  D_DTM >= date_format(date_add(now(), -10),\"yyyy-MM-dd\") group by date_format(D_DTM,\"yyyy-MM-dd\")\nunion all\n    select '2.widetable_4g_qci_gold_SEA' tb,date_format(D_DTM,\"yyyy-MM-dd\") D_DTM,count(*) ctx from apachedataingestion.lte.widetable_4g_qci_gold2 WHERE  D_DTM >= date_format(date_add(now(), -10),\"yyyy-MM-dd\") group by date_format(D_DTM,\"yyyy-MM-dd\")\nunion all\n    select '6.widetable_5g_gNB_hr_qci_gold' tb,date_format(CalendarDate,\"yyyy-MM-dd\") D_DTM ,count(*) ctx from  apachedataingestion.nr.widetable_5g_gNB_hr_qci_gold2  WHERE  CalendarDate >= date_format(date_add(now(), -10),\"yyyy-MM-dd\")  group by date_format(CalendarDate,\"yyyy-MM-dd\")   \nunion all\n    select '7.widetable_5g_cell_hr_qci_gold' tb,date_format(CalendarDate,\"yyyy-MM-dd\") D_DTM ,count(*) ctx from  apachedataingestion.nr.widetable_5g_cell_hr_qci_gold2  WHERE  CalendarDate >= date_format(date_add(now(), -10),\"yyyy-MM-dd\")  group by date_format(CalendarDate,\"yyyy-MM-dd\")   \nunion all\n    select '8.widetable_5g_VoNR_hr_gold2' tb,date_format(CalendarDate,\"yyyy-MM-dd\") D_DTM ,count(*) ctx from  apachedataingestion.nr.widetable_5g_VoNR_hr_gold2  WHERE  CalendarDate >= date_format(date_add(now(), -10),\"yyyy-MM-dd\")  group by date_format(CalendarDate,\"yyyy-MM-dd\")   \nunion all\n    select '932.snap_enb_iris_kpis_hourly_snap_hr_gold' tb,date_format(Daily,\"yyyy-MM-dd\") D_DTM ,count(*) ctx from `snap`.`enb_iris`.`snap_enb_iris_kpis_hourly_snap_hr_gold` WHERE  Daily >= date_format(date_add(now(), -10),\"yyyy-MM-dd\") group by date_format(Daily,\"yyyy-MM-dd\")\nunion all\n    select '90.snap_enb_iris_kpis_hourly_snap_hr_silver' tb,date_format(Daily,\"yyyy-MM-dd\") D_DTM ,count(*) ctx from `snap`.`enb_iris`.`snap_enb_iris_kpis_hourly_snap_hr_silver` WHERE  Daily >= date_format(date_add(now(), -10),\"yyyy-MM-dd\") group by date_format(Daily,\"yyyy-MM-dd\")    \nunion all\n    select '931.jwk_snap_enb_iris_kpis_hourly_snap_hr_silver' tb,date_format(Daily,\"yyyy-MM-dd\") D_DTM ,count(*) ctx from hive_metastore.default.jwk_snap_enb_iris_kpis_hourly_snap_hr_silver2 WHERE  Daily >= date_format(date_add(now(), -10),\"yyyy-MM-dd\") group by date_format(Daily,\"yyyy-MM-dd\")        \nunion all\n    select '94.snap.snap_carrierlevel_sea.snap_carrierlevel_fsm_sea_combined_kpis_hourly_gold' tb,date_format(Date,\"yyyy-MM-dd\") D_DTM ,count(*) ctx from snap.snap_carrierlevel_sea.snap_carrierlevel_fsm_sea_combined_kpis_hourly_gold WHERE  Date >= date_format(date_add(now(), -10),\"yyyy-MM-dd\") group by date_format(Date,\"yyyy-MM-dd\")\n\n    \nunion all\n    select '93.snap.enb_iris.4g_busy_hour_kpi_gold ' tb,date_format(Daily,\"yyyy-MM-dd\") D_DTM ,count(*) ctx from snap.enb_iris.4g_busy_hour_kpi_gold  WHERE  Daily >= date_format(date_add(now(), -10),\"yyyy-MM-dd\") group by date_format(Daily,\"yyyy-MM-dd\")\n\n\nunion all\n    select '951.megatable_5g_gNB_hr_gold2 ' tb,date_format(CalendarDate,\"yyyy-MM-dd\") D_DTM ,count(*) ctx from apachedataingestion.nr.megatable_5g_gNB_hr_gold2   WHERE  CalendarDate >= date_format(date_add(now(), -10),\"yyyy-MM-dd\") group by date_format(CalendarDate,\"yyyy-MM-dd\")\n\nunion all\n    select '953.megatable_5g_cell_hr_gold2 ' tb,date_format(CalendarDate,\"yyyy-MM-dd\") D_DTM ,count(*) ctx from apachedataingestion.nr.megatable_5g_cell_hr_gold2   WHERE  CalendarDate >= date_format(date_add(now(), -10),\"yyyy-MM-dd\") group by date_format(CalendarDate,\"yyyy-MM-dd\")\n\nunion all\n    select '952.megatable_5g_du_hr_gold2 ' tb,date_format(CalendarDate,\"yyyy-MM-dd\") D_DTM ,count(*) ctx from apachedataingestion.nr.megatable_5g_du_hr_gold2   WHERE  CalendarDate >= date_format(date_add(now(), -10),\"yyyy-MM-dd\") group by date_format(CalendarDate,\"yyyy-MM-dd\")\n\nunion all\n    select '954.megatable_4g_site_gold ' tb,date_format(D_DTM,\"yyyy-MM-dd\") D_DTM ,count(*) ctx from apachedataingestion.lte.megatable_4g_site_gold  WHERE  D_DTM >= date_format(date_add(now(), -10),\"yyyy-MM-dd\") group by date_format(D_DTM,\"yyyy-MM-dd\")\n\n\nunion all\n    select '923.widetable_4g_eNB ' tb,date_format(CalendarDate,\"yyyy-MM-dd\") D_DTM ,count(*) ctx from apachedataingestion.lte.widetable_4g_eNB  WHERE  CalendarDate >= date_format(date_add(now(), -10),\"yyyy-MM-dd\") group by date_format(CalendarDate,\"yyyy-MM-dd\")\n\nunion all\n    select '923.widetable_5g_Du ' tb,date_format(CalendarDate,\"yyyy-MM-dd\") D_DTM ,count(*) ctx from apachedataingestion.nr.widetable_5g_Du  WHERE  CalendarDate >= date_format(date_add(now(), -10),\"yyyy-MM-dd\") group by date_format(CalendarDate,\"yyyy-MM-dd\")\n\nunion all\nselect '990.v_cm_changes_4g_wide ' tb,date_format(ec_tar_file_modification_ts,\"yyyy-MM-dd\") D_DTM ,count(*) ctx from invt.cm_gold.v_cm_changes_4g_wide WHERE  day_id >= date_format(date_add(now(), -10),\"yyyyMMdd\") group by date_format(ec_tar_file_modification_ts,\"yyyy-MM-dd\")\nunion all\nselect '991.v_cm_changes_5g_wide ' tb,date_format(ec_tar_file_modification_ts,\"yyyy-MM-dd\") D_DTM ,count(*) ctx from invt.cm_gold.v_cm_changes_5g_wide WHERE  day_id >= date_format(date_add(now(), -10),\"yyyyMMdd\") group by date_format(ec_tar_file_modification_ts,\"yyyy-MM-dd\")\nunion all\nselect '992.v_cm_invt_fw_4g_wide ' tb,date_format(tar_file_modification_ts,\"yyyy-MM-dd\") D_DTM ,count(*) ctx from invt.cm_gold.v_cm_invt_fw_4g_wide WHERE  day_id >= date_format(date_add(now(), -10),\"yyyyMMdd\") group by date_format(tar_file_modification_ts,\"yyyy-MM-dd\")\nunion all\nselect '993.v_cm_invt_fw_5g_wide ' tb,date_format(tar_file_modification_ts,\"yyyy-MM-dd\") D_DTM ,count(*) ctx from invt.cm_gold.v_cm_invt_fw_5g_wide WHERE  day_id >= date_format(date_add(now(), -10),\"yyyyMMdd\") group by date_format(tar_file_modification_ts,\"yyyy-MM-dd\")\nunion all\nselect '994.v_cm_invt_hw_4g_wide ' tb,date_format(tar_file_modification_ts,\"yyyy-MM-dd\") D_DTM ,count(*) ctx from invt.cm_gold.v_cm_invt_hw_4g_wide WHERE  day_id >= date_format(date_add(now(), -10),\"yyyyMMdd\") group by date_format(tar_file_modification_ts,\"yyyy-MM-dd\")\nunion all\nselect '995.v_cm_invt_hw_5g_wide ' tb,date_format(tar_file_modification_ts,\"yyyy-MM-dd\") D_DTM ,count(*) ctx from invt.cm_gold.v_cm_invt_hw_5g_wide WHERE  day_id >= date_format(date_add(now(), -10),\"yyyyMMdd\") group by date_format(tar_file_modification_ts,\"yyyy-MM-dd\")\nunion all\nselect '996.v_cm_invt_oru_5g_wide ' tb,date_format(tar_file_modification_ts,\"yyyy-MM-dd\") D_DTM ,count(*) ctx from invt.cm_gold.v_cm_invt_oru_5g_wide WHERE  day_id >= date_format(date_add(now(), -10),\"yyyyMMdd\") group by date_format(tar_file_modification_ts,\"yyyy-MM-dd\")\nunion all\nselect '997.v_cm_invt_sw_4g_wide ' tb,date_format(tar_file_modification_ts,\"yyyy-MM-dd\") D_DTM ,count(*) ctx from invt.cm_gold.v_cm_invt_sw_4g_wide WHERE  day_id >= date_format(date_add(now(), -10),\"yyyyMMdd\") group by date_format(tar_file_modification_ts,\"yyyy-MM-dd\")\nunion all\nselect '998.v_cm_invt_sw_5g_wide ' tb,date_format(tar_file_modification_ts,\"yyyy-MM-dd\") D_DTM ,count(*) ctx from invt.cm_gold.v_cm_invt_sw_5g_wide WHERE  day_id >= date_format(date_add(now(), -10),\"yyyyMMdd\") group by date_format(tar_file_modification_ts,\"yyyy-MM-dd\")\nunion all\nselect '999.v_cm_invt_sw_4g_wide ' tb,date_format(tar_file_modification_ts,\"yyyy-MM-dd\") D_DTM ,count(tar_file_modification_ts) ctx from invt.cm_silver.v_cm_gpl_type_4g_wide WHERE  tar_file_modification_ts >= date_format(date_add(now(), -5),\"yyyy-MM-dd\") group by date_format(tar_file_modification_ts,\"yyyy-MM-dd\")\nunion all\nselect '999.v_cm_gpl_type_5g_wide ' tb,date_format(tar_file_modification_ts,\"yyyy-MM-dd\") D_DTM ,count(tar_file_modification_ts) ctx from invt.cm_silver.v_cm_gpl_type_5g_wide WHERE  tar_file_modification_ts >= date_format(date_add(now(), -5),\"yyyy-MM-dd\") group by date_format(tar_file_modification_ts,\"yyyy-MM-dd\")\n\n\n\n\n\n\n) x\nwhere x.D_DTM is not null) SELECT `tb`,`D_DTM`,SUM(`ctx`) `ctx_alias` FROM q GROUP BY `D_DTM`,`tb` ORDER BY `tb` ASC,`D_DTM` DESC",
       "commandTitle": "CheckingWide",
       "commandType": "auto",
       "commandVersion": 0,
       "commentThread": [],
       "commentsVisible": false,
       "contentSha256Hex": null,
       "customPlotOptions": {
        "redashChart": [
         {
          "key": "type",
          "value": "PIVOT_TABLE"
         },
         {
          "key": "options",
          "value": {
           "cell": {
            "field": "ctx",
            "transform": {
             "fn": "sum"
            }
           },
           "cellNumberFormat": "0",
           "colorCellsByValue": true,
           "columns": [
            {
             "field": "D_DTM",
             "sort": "descending"
            }
           ],
           "condensed": true,
           "rows": [
            {
             "field": "tb",
             "sort": "ascending"
            }
           ],
           "withRowNumber": true
          }
         }
        ]
       },
       "datasetPreviewNameToCmdIdMap": {},
       "diffDeletes": [],
       "diffInserts": [],
       "displayType": "redashChart",
       "error": null,
       "errorDetails": null,
       "errorSummary": null,
       "errorTraceType": null,
       "finishTime": 0,
       "globalVars": {},
       "guid": "",
       "height": "auto",
       "hideCommandCode": false,
       "hideCommandResult": false,
       "iPythonMetadata": null,
       "inputWidgets": {},
       "isLockedInExamMode": false,
       "latestUser": "a user",
       "latestUserId": null,
       "listResultMetadata": null,
       "metadata": {},
       "nuid": "b683a750-1c00-4919-9391-baf2347a0a70",
       "origId": 0,
       "parentHierarchy": [],
       "pivotAggregation": null,
       "pivotColumns": null,
       "position": 2.0,
       "resultDbfsErrorMessage": null,
       "resultDbfsStatus": "INLINED_IN_TREE",
       "results": null,
       "showCommandTitle": false,
       "startTime": 0,
       "state": "input",
       "streamStates": {},
       "subcommandOptions": {
        "queryPlan": {
         "groups": [
          {
           "column": "tb",
           "type": "column"
          },
          {
           "column": "D_DTM",
           "type": "column"
          }
         ],
         "order_by": [
          {
           "direction": "asc",
           "expression": {
            "identifier": "tb",
            "kind": "identifier"
           }
          },
          {
           "direction": "desc",
           "expression": {
            "identifier": "D_DTM",
            "kind": "identifier"
           }
          }
         ],
         "selects": [
          {
           "column": "tb",
           "type": "column"
          },
          {
           "column": "D_DTM",
           "type": "column"
          },
          {
           "alias": "ctx_alias",
           "args": [
            {
             "column": "ctx",
             "type": "column"
            }
           ],
           "function": "SUM",
           "type": "function"
          }
         ]
        },
        "redashId": "ae20848f-4290-4a8c-98b7-48722877884f",
        "redashLastUpdated": 1741027889000
       },
       "submitTime": 0,
       "subtype": "tableResultSubCmd.visualization",
       "tableResultIndex": 0,
       "tableResultSettingsMap": {},
       "useConsistentColors": false,
       "version": "CommandV1",
       "width": "auto",
       "workflows": null,
       "xColumns": null,
       "yColumns": null
      }
     },
     "output_type": "display_data"
    }
   ],
   "source": [
    "\n",
    "\n",
    " select * from (\n",
    "    select '1.widetable_4g_site_gold_WL' tb,date_format(D_DTM,\"yyyy-MM-dd\") D_DTM,count(*) ctx from hive_metastore.default.widetable_4g_site_gold WHERE  D_DTM >= date_format(date_add(now(), -10),\"yyyy-MM-dd\") group by date_format(D_DTM,\"yyyy-MM-dd\")\n",
    "union all\n",
    "    select '1.widetable_4g_site_gold_SEA' tb,date_format(D_DTM,\"yyyy-MM-dd\") D_DTM,count(*) ctx from apachedataingestion.lte.widetable_4g_site_gold2 WHERE  D_DTM >= date_format(date_add(now(), -10),\"yyyy-MM-dd\") group by date_format(D_DTM,\"yyyy-MM-dd\")\n",
    "\n",
    "union all\n",
    "    select '3.widetable_5g_cell_hr_gold_WL' tb,date_format(CalendarDate,\"yyyy-MM-dd\")  D_DTM,count(*) ctx from hive_metastore.default.widetable_5g_cell_hr_gold WHERE  CalendarDate >= date_format(date_add(now(), -10),\"yyyy-MM-dd\") group by date_format(CalendarDate,\"yyyy-MM-dd\")\n",
    "union all\n",
    "    select '3.widetable_5g_cell_hr_gold_SEA' tb,date_format(CalendarDate,\"yyyy-MM-dd\")  D_DTM,count(*) ctx from apachedataingestion.nr.widetable_5g_cell_hr_gold2 WHERE  CalendarDate >= date_format(date_add(now(), -10),\"yyyy-MM-dd\") group by date_format(CalendarDate,\"yyyy-MM-dd\")\n",
    "union all\n",
    "select '3.widetable_5g_SA_hr_gold2' tb,date_format(CalendarDate,\"yyyy-MM-dd\")  D_DTM,count(*) ctx from apachedataingestion.nr.widetable_5g_SA_hr_gold2 WHERE  CalendarDate >= date_format(date_add(now(), -10),\"yyyy-MM-dd\") group by date_format(CalendarDate,\"yyyy-MM-dd\")\n",
    "union all\n",
    "select '3.widetable_5g_SPID_RFSP_hr_gold2' tb,date_format(CalendarDate,\"yyyy-MM-dd\")  D_DTM,count(*) ctx from apachedataingestion.nr.widetable_5g_SPID_RFSP_hr_gold2 WHERE  CalendarDate >= date_format(date_add(now(), -10),\"yyyy-MM-dd\") group by date_format(CalendarDate,\"yyyy-MM-dd\")\n",
    "union all\n",
    "    select '0.jwk_mapping_live' tb,date_format(now(),\"yyyy-MM-dd\") D_DTM,count(*) ctx from hive_metastore.`default`.jwk_mapping_live \n",
    "union all\n",
    "    select '4.widetable_5g_du_hr_gold_WL' tb,date_format(CalendarDate,\"yyyy-MM-dd\") D_DTM ,count(*) ctx from hive_metastore.default.widetable_5g_du_hr_gold WHERE  CalendarDate >= date_format(date_add(now(), -10),\"yyyy-MM-dd\")  group by date_format(CalendarDate,\"yyyy-MM-dd\")\n",
    "union all\n",
    "    select '4.widetable_5g_du_hr_gold_SEA' tb,date_format(CalendarDate,\"yyyy-MM-dd\") D_DTM ,count(*) ctx from  apachedataingestion.nr.widetable_5g_du_hr_gold2 WHERE  CalendarDate >= date_format(date_add(now(), -10),\"yyyy-MM-dd\")  group by date_format(CalendarDate,\"yyyy-MM-dd\")    \n",
    "union all\n",
    "    select '5.widetable_5g_gNB_hr_gold_WL' tb,date_format(CalendarDate,\"yyyy-MM-dd\") D_DTM ,count(*) ctx from hive_metastore.default.widetable_5g_gNB_hr_gold  WHERE  CalendarDate >= date_format(date_add(now(), -10),\"yyyy-MM-dd\") group by date_format(CalendarDate,\"yyyy-MM-dd\")\n",
    "union all\n",
    "    select '5.widetable_5g_gNB_hr_gold_SEA' tb,date_format(CalendarDate,\"yyyy-MM-dd\") D_DTM ,count(*) ctx from apachedataingestion.nr.widetable_5g_gNB_hr_gold2 WHERE  CalendarDate >= date_format(date_add(now(), -10),\"yyyy-MM-dd\") group by date_format(CalendarDate,\"yyyy-MM-dd\")    \n",
    "union all\n",
    "    select '2.widetable_4g_qci_gold_WL' tb,date_format(D_DTM,\"yyyy-MM-dd\") D_DTM,count(*) ctx from hive_metastore.default.widetable_4g_qci_gold WHERE  D_DTM >= date_format(date_add(now(), -10),\"yyyy-MM-dd\") group by date_format(D_DTM,\"yyyy-MM-dd\")\n",
    "union all\n",
    "    select '2.widetable_4g_qci_gold_SEA' tb,date_format(D_DTM,\"yyyy-MM-dd\") D_DTM,count(*) ctx from apachedataingestion.lte.widetable_4g_qci_gold2 WHERE  D_DTM >= date_format(date_add(now(), -10),\"yyyy-MM-dd\") group by date_format(D_DTM,\"yyyy-MM-dd\")\n",
    "union all\n",
    "    select '6.widetable_5g_gNB_hr_qci_gold' tb,date_format(CalendarDate,\"yyyy-MM-dd\") D_DTM ,count(*) ctx from  apachedataingestion.nr.widetable_5g_gNB_hr_qci_gold2  WHERE  CalendarDate >= date_format(date_add(now(), -10),\"yyyy-MM-dd\")  group by date_format(CalendarDate,\"yyyy-MM-dd\")   \n",
    "union all\n",
    "    select '7.widetable_5g_cell_hr_qci_gold' tb,date_format(CalendarDate,\"yyyy-MM-dd\") D_DTM ,count(*) ctx from  apachedataingestion.nr.widetable_5g_cell_hr_qci_gold2  WHERE  CalendarDate >= date_format(date_add(now(), -10),\"yyyy-MM-dd\")  group by date_format(CalendarDate,\"yyyy-MM-dd\")   \n",
    "union all\n",
    "    select '8.widetable_5g_VoNR_hr_gold2' tb,date_format(CalendarDate,\"yyyy-MM-dd\") D_DTM ,count(*) ctx from  apachedataingestion.nr.widetable_5g_VoNR_hr_gold2  WHERE  CalendarDate >= date_format(date_add(now(), -10),\"yyyy-MM-dd\")  group by date_format(CalendarDate,\"yyyy-MM-dd\")   \n",
    "union all\n",
    "    select '932.snap_enb_iris_kpis_hourly_snap_hr_gold' tb,date_format(Daily,\"yyyy-MM-dd\") D_DTM ,count(*) ctx from `snap`.`enb_iris`.`snap_enb_iris_kpis_hourly_snap_hr_gold` WHERE  Daily >= date_format(date_add(now(), -10),\"yyyy-MM-dd\") group by date_format(Daily,\"yyyy-MM-dd\")\n",
    "union all\n",
    "    select '90.snap_enb_iris_kpis_hourly_snap_hr_silver' tb,date_format(Daily,\"yyyy-MM-dd\") D_DTM ,count(*) ctx from `snap`.`enb_iris`.`snap_enb_iris_kpis_hourly_snap_hr_silver` WHERE  Daily >= date_format(date_add(now(), -10),\"yyyy-MM-dd\") group by date_format(Daily,\"yyyy-MM-dd\")    \n",
    "union all\n",
    "    select '931.jwk_snap_enb_iris_kpis_hourly_snap_hr_silver' tb,date_format(Daily,\"yyyy-MM-dd\") D_DTM ,count(*) ctx from hive_metastore.default.jwk_snap_enb_iris_kpis_hourly_snap_hr_silver2 WHERE  Daily >= date_format(date_add(now(), -10),\"yyyy-MM-dd\") group by date_format(Daily,\"yyyy-MM-dd\")        \n",
    "union all\n",
    "    select '94.snap.snap_carrierlevel_sea.snap_carrierlevel_fsm_sea_combined_kpis_hourly_gold' tb,date_format(Date,\"yyyy-MM-dd\") D_DTM ,count(*) ctx from snap.snap_carrierlevel_sea.snap_carrierlevel_fsm_sea_combined_kpis_hourly_gold WHERE  Date >= date_format(date_add(now(), -10),\"yyyy-MM-dd\") group by date_format(Date,\"yyyy-MM-dd\")\n",
    "--union all\n",
    "    --select '95.snap.snap_carrierlevel_sea.snap_carrierlevel_fsm_sea_combined_kpis_hourly_gold2' tb,date_format(Date,\"yyyy-MM-dd\") D_DTM ,count(*) ctx from snap.snap_carrierlevel_sea.snap_carrierlevel_fsm_sea_combined_kpis_hourly_gold2 WHERE  Date >= date_format(date_add(now(), -10),\"yyyy-MM-dd\") group by date_format(Date,\"yyyy-MM-dd\")    \n",
    "union all\n",
    "    select '93.snap.enb_iris.4g_busy_hour_kpi_gold ' tb,date_format(Daily,\"yyyy-MM-dd\") D_DTM ,count(*) ctx from snap.enb_iris.4g_busy_hour_kpi_gold  WHERE  Daily >= date_format(date_add(now(), -10),\"yyyy-MM-dd\") group by date_format(Daily,\"yyyy-MM-dd\")\n",
    "\n",
    "\n",
    "union all\n",
    "    select '951.megatable_5g_gNB_hr_gold2 ' tb,date_format(CalendarDate,\"yyyy-MM-dd\") D_DTM ,count(*) ctx from apachedataingestion.nr.megatable_5g_gNB_hr_gold2   WHERE  CalendarDate >= date_format(date_add(now(), -10),\"yyyy-MM-dd\") group by date_format(CalendarDate,\"yyyy-MM-dd\")\n",
    "\n",
    "union all\n",
    "    select '953.megatable_5g_cell_hr_gold2 ' tb,date_format(CalendarDate,\"yyyy-MM-dd\") D_DTM ,count(*) ctx from apachedataingestion.nr.megatable_5g_cell_hr_gold2   WHERE  CalendarDate >= date_format(date_add(now(), -10),\"yyyy-MM-dd\") group by date_format(CalendarDate,\"yyyy-MM-dd\")\n",
    "\n",
    "union all\n",
    "    select '952.megatable_5g_du_hr_gold2 ' tb,date_format(CalendarDate,\"yyyy-MM-dd\") D_DTM ,count(*) ctx from apachedataingestion.nr.megatable_5g_du_hr_gold2   WHERE  CalendarDate >= date_format(date_add(now(), -10),\"yyyy-MM-dd\") group by date_format(CalendarDate,\"yyyy-MM-dd\")\n",
    "\n",
    "union all\n",
    "    select '954.megatable_4g_site_gold ' tb,date_format(D_DTM,\"yyyy-MM-dd\") D_DTM ,count(*) ctx from apachedataingestion.lte.megatable_4g_site_gold  WHERE  D_DTM >= date_format(date_add(now(), -10),\"yyyy-MM-dd\") group by date_format(D_DTM,\"yyyy-MM-dd\")\n",
    "\n",
    "\n",
    "union all\n",
    "    select '923.widetable_4g_eNB ' tb,date_format(CalendarDate,\"yyyy-MM-dd\") D_DTM ,count(*) ctx from apachedataingestion.lte.widetable_4g_eNB  WHERE  CalendarDate >= date_format(date_add(now(), -10),\"yyyy-MM-dd\") group by date_format(CalendarDate,\"yyyy-MM-dd\")\n",
    "\n",
    "union all\n",
    "    select '923.widetable_5g_Du ' tb,date_format(CalendarDate,\"yyyy-MM-dd\") D_DTM ,count(*) ctx from apachedataingestion.nr.widetable_5g_Du  WHERE  CalendarDate >= date_format(date_add(now(), -10),\"yyyy-MM-dd\") group by date_format(CalendarDate,\"yyyy-MM-dd\")\n",
    "\n",
    "union all\n",
    "select '990.v_cm_changes_4g_wide ' tb,date_format(concat(left(day_id,4),'-',substring(day_id,5,2),'-',right(day_id,2)),'yyyy-MM-dd') D_DTM ,count(*) ctx from invt.cm_gold.v_cm_changes_4g_wide WHERE  day_id >= date_format(date_add(now(), -10),\"yyyyMMdd\") group by date_format(concat(left(day_id,4),'-',substring(day_id,5,2),'-',right(day_id,2)),'yyyy-MM-dd')\n",
    "union all\n",
    "select '991.v_cm_changes_5g_wide ' tb,date_format(concat(left(day_id,4),'-',substring(day_id,5,2),'-',right(day_id,2)),'yyyy-MM-dd') D_DTM ,count(*) ctx from invt.cm_gold.v_cm_changes_5g_wide WHERE  day_id >= date_format(date_add(now(), -10),\"yyyyMMdd\") group by date_format(concat(left(day_id,4),'-',substring(day_id,5,2),'-',right(day_id,2)),'yyyy-MM-dd')\n",
    "union all\n",
    "select '992.v_cm_invt_fw_4g_wide ' tb,date_format(tar_file_modification_ts,\"yyyy-MM-dd\") D_DTM ,count(*) ctx from invt.cm_gold.v_cm_invt_fw_4g_wide WHERE  day_id >= date_format(date_add(now(), -10),\"yyyyMMdd\") group by date_format(tar_file_modification_ts,\"yyyy-MM-dd\")\n",
    "union all\n",
    "select '993.v_cm_invt_fw_5g_wide ' tb,date_format(tar_file_modification_ts,\"yyyy-MM-dd\") D_DTM ,count(*) ctx from invt.cm_gold.v_cm_invt_fw_5g_wide WHERE  day_id >= date_format(date_add(now(), -10),\"yyyyMMdd\") group by date_format(tar_file_modification_ts,\"yyyy-MM-dd\")\n",
    "union all\n",
    "select '994.v_cm_invt_hw_4g_wide ' tb,date_format(tar_file_modification_ts,\"yyyy-MM-dd\") D_DTM ,count(*) ctx from invt.cm_gold.v_cm_invt_hw_4g_wide WHERE  day_id >= date_format(date_add(now(), -10),\"yyyyMMdd\") group by date_format(tar_file_modification_ts,\"yyyy-MM-dd\")\n",
    "union all\n",
    "select '995.v_cm_invt_hw_5g_wide ' tb,date_format(tar_file_modification_ts,\"yyyy-MM-dd\") D_DTM ,count(*) ctx from invt.cm_gold.v_cm_invt_hw_5g_wide WHERE  day_id >= date_format(date_add(now(), -10),\"yyyyMMdd\") group by date_format(tar_file_modification_ts,\"yyyy-MM-dd\")\n",
    "union all\n",
    "select '996.v_cm_invt_oru_5g_wide ' tb,date_format(tar_file_modification_ts,\"yyyy-MM-dd\") D_DTM ,count(*) ctx from invt.cm_gold.v_cm_invt_oru_5g_wide WHERE  day_id >= date_format(date_add(now(), -10),\"yyyyMMdd\") group by date_format(tar_file_modification_ts,\"yyyy-MM-dd\")\n",
    "union all\n",
    "select '997.v_cm_invt_sw_4g_wide ' tb,date_format(tar_file_modification_ts,\"yyyy-MM-dd\") D_DTM ,count(*) ctx from invt.cm_gold.v_cm_invt_sw_4g_wide WHERE  day_id >= date_format(date_add(now(), -10),\"yyyyMMdd\") group by date_format(tar_file_modification_ts,\"yyyy-MM-dd\")\n",
    "union all\n",
    "select '998.v_cm_invt_sw_5g_wide ' tb,date_format(tar_file_modification_ts,\"yyyy-MM-dd\") D_DTM ,count(*) ctx from invt.cm_gold.v_cm_invt_sw_5g_wide WHERE  day_id >= date_format(date_add(now(), -10),\"yyyyMMdd\") group by date_format(tar_file_modification_ts,\"yyyy-MM-dd\")\n",
    "union all\n",
    "select '999.v_cm_invt_sw_4g_wide ' tb,date_format(tar_file_modification_ts,\"yyyy-MM-dd\") D_DTM ,count(tar_file_modification_ts) ctx from invt.cm_silver.v_cm_gpl_type_4g_wide WHERE  tar_file_modification_ts >= date_format(date_add(now(), -5),\"yyyy-MM-dd\") group by date_format(tar_file_modification_ts,\"yyyy-MM-dd\")\n",
    "union all\n",
    "select '999.v_cm_gpl_type_5g_wide ' tb,date_format(file_modification_ts,\"yyyy-MM-dd\") D_DTM ,count(file_modification_ts) ctx from invt.cm_silver.v_cm_gpl_type_5g_wide WHERE  file_modification_ts >= date_format(date_add(now(), -5),\"yyyy-MM-dd\") group by date_format(file_modification_ts,\"yyyy-MM-dd\")\n",
    "\n",
    "\n",
    "\n",
    "\n",
    "\n",
    "\n",
    ") x\n",
    "where x.D_DTM is not null;\n",
    "\n"
   ]
  }
 ],
 "metadata": {
  "application/vnd.databricks.v1+notebook": {
   "computePreferences": null,
   "dashboards": [],
   "environmentMetadata": null,
   "inputWidgetPreferences": null,
   "language": "sql",
   "notebookMetadata": {
    "pythonIndentUnit": 4,
    "sqlQueryOptions": {
     "applyAutoLimit": true,
     "catalog": "hive_metastore",
     "schema": "default"
    }
   },
   "notebookName": "CheckingWide.dbquery.ipynb",
   "widgets": {}
  },
  "language_info": {
   "name": "sql"
  }
 },
 "nbformat": 4,
 "nbformat_minor": 0
}

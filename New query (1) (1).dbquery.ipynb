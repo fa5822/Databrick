{
 "cells": [
  {
   "cell_type": "code",
   "execution_count": 0,
   "metadata": {
    "application/vnd.databricks.v1+cell": {
     "cellMetadata": {
      "byteLimit": 10485760,
      "rowLimit": 1000
     },
     "inputWidgets": {},
     "nuid": "00c2ad2b-c5e1-41a4-9d0d-9944f98c25f2",
     "showTitle": false,
     "tableResultSettingsMap": {},
     "title": ""
    }
   },
   "outputs": [],
   "source": [
    "\n",
    "\n",
    "\n",
    "select  * from csv.`s3://samsung.s3.landing.stage/VZ/Acquisition/Special_Events_JWK/USM_Southlake20_PXMA0/20240923/PXMA0-20240923-2230.tar.gz/20240923-2230_Special_KPI_LTE_CELL_24.A.0.csv`\n",
    "\n",
    "select  * from csv.`s3://samsung.s3.landing.stage/VZ/Acquisition/Special_Events_JWK/USM_Southlake20_PXMA0/20240923/PXMA0-20240923-2230.tar.gz/20240923-2230_Special_KPI_NR_CNF_DU_CELL_24.A.0.csv` \n",
    "select  * from csv.`s3://samsung.s3.landing.stage/VZ/Acquisition/Special_Events_JWK/USM_Southlake20_PXMA0/20240923/PXMA0-20240923-2230.tar.gz/20240923-2230_Special_KPI_NR_VNF_AUPF_CELL_24.A.0.csv`\n",
    "\n",
    "select  * from csv.`s3://samsung.s3.landing.stage/VZ/Acquisition/Special_Events_JWK/USM_Southlake20_PXMA0/20240923/PXMA0-20240923-2230.tar.gz/20240923-2230_Special_KPI_NR_CNF_DU_24.A.0.csv`\n",
    "select  * from csv.`s3://samsung.s3.landing.stage/VZ/Acquisition/Special_Events_JWK/USM_Southlake20_PXMA0/20240923/PXMA0-20240923-2230.tar.gz/20240923-2230_Special_KPI_NR_AU_24.A.0.csv`\n",
    "\n",
    "\n",
    "\n",
    "\n",
    "\n",
    "\n",
    "\n",
    "\n",
    "select Daily,count(distinct ne_id) from apachedataingestion.lte.availability_lte_hr_silver where source_full_path like '%USMlte_ColoradoSprings3_PSMA%' and \n",
    "Daily >=  date_format(date_add(now(), :days),\"yyyy-MM-dd\") group by Daily\n",
    "\n",
    "\n",
    "aws s3 ls s3://samsung.s3.landing.stage/VZ/Acquisition/USM/20240923/Southlake20/\n",
    "\n",
    "select * from csv.`s3://samsung.s3.landing.stage/VZ/Acquisition/USM/20240923/Southlake20/PXMA0/PXMA0-20240923-1930.tar.gz`\n",
    "\n",
    "select * from csv.`s3://samsung.s3.landing.stage/VZ/Acquisition/Special_Events_Input/LTE_KPIs/LTE_KPI_Report_15Min_32734_20240830_0615.csv`\n",
    "\n",
    "\n",
    "\n",
    "\n",
    "/samsung.s3.landing.stage/VZ/Acquisition/Special_Events_JWK/USM_Southlake20_PXMA0/20240923/PXMA0-20240923-2140.tar.gz"
   ]
  }
 ],
 "metadata": {
  "application/vnd.databricks.v1+notebook": {
   "computePreferences": null,
   "dashboards": [],
   "environmentMetadata": null,
   "inputWidgetPreferences": null,
   "language": "sql",
   "notebookMetadata": {
    "pythonIndentUnit": 4,
    "sqlQueryOptions": {
     "applyAutoLimit": true,
     "catalog": "hive_metastore",
     "schema": "default"
    }
   },
   "notebookName": "New query (1) (1).dbquery.ipynb",
   "widgets": {
    "days": {
     "currentValue": "-1",
     "nuid": "60a88dbd-4726-4e81-b086-a9825174e12d",
     "typedWidgetInfo": {
      "autoCreated": false,
      "defaultValue": "-1",
      "label": "days",
      "name": "days",
      "options": {
       "widgetDisplayType": "Text",
       "validationRegex": null
      },
      "parameterDataType": "Integer"
     },
     "widgetInfo": {
      "widgetType": "text",
      "defaultValue": "-1",
      "label": "days",
      "name": "days",
      "options": {
       "widgetType": "text",
       "autoCreated": false,
       "validationRegex": null
      }
     }
    }
   }
  },
  "language_info": {
   "name": "sql"
  }
 },
 "nbformat": 4,
 "nbformat_minor": 0
}

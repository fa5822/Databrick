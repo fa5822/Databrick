{
 "cells": [
  {
   "cell_type": "code",
   "execution_count": 0,
   "metadata": {
    "application/vnd.databricks.v1+cell": {
     "cellMetadata": {},
     "inputWidgets": {},
     "nuid": "f629a2d4-cab2-4965-b84f-1107af63bc68",
     "showTitle": false,
     "tableResultSettingsMap": {},
     "title": ""
    }
   },
   "outputs": [],
   "source": [
    "\n",
    "\n",
    "drop table apachedataingestion.nr.xxxx_jwk_del_widetable_5g_cell_hr_gold2;\n",
    "\n",
    "create table apachedataingestion.nr.xxxx_jwk_del_widetable_5g_cell_hr_gold2\n",
    "select * from apachedataingestion.nr.widetable_5g_cell_hr_gold2\n",
    "where CalendarDate >= date_format(date_add(now(), {{ days }}),\"yyyy-MM-dd\") and CalendarDate < date_format(date_add(now(), ({{ days }})+1),\"yyyy-MM-dd\") \n",
    ";\n",
    "\n",
    "\n",
    "drop table apachedataingestion.lte.xxxx_jwk_del_widetable_4g_site_gold2;\n",
    "\n",
    "create table apachedataingestion.lte.xxxx_jwk_del_widetable_4g_site_gold2\n",
    "select * from apachedataingestion.lte.widetable_4g_site_gold2\n",
    "where D_DTM >= date_format(date_add(now(), {{ days }}),\"yyyy-MM-dd\") and D_DTM < date_format(date_add(now(), ({{ days }})+1),\"yyyy-MM-dd\") \n",
    ";\n",
    "\n",
    "\n",
    "\n",
    "\n",
    "\n",
    "desc detail apachedataingestion.lte.widetable_4g_site_gold2;  1559500643279\n",
    "desc detail apachedataingestion.nr.widetable_5g_cell_hr_gold2; 2016918269721\n",
    "\n",
    "\n",
    "\n",
    "desc detail apachedataingestion.nr.xxxx_jwk_del_widetable_5g_cell_hr_gold2;     7534634848\n",
    "desc detail apachedataingestion.lte.xxxx_jwk_del_widetable_4g_site_gold2;       5531340534"
   ]
  }
 ],
 "metadata": {
  "application/vnd.databricks.v1+notebook": {
   "computePreferences": null,
   "dashboards": [],
   "environmentMetadata": null,
   "inputWidgetPreferences": null,
   "language": "sql",
   "notebookMetadata": {
    "pythonIndentUnit": 4,
    "sqlQueryOptions": {
     "applyAutoLimit": true,
     "catalog": "hive_metastore",
     "schema": "default"
    }
   },
   "notebookName": "sizePerTable.dbquery.ipynb",
   "widgets": {
    "days": {
     "currentValue": "-1",
     "nuid": "bf8d9a23-0f5b-4ad2-9c22-200fb417f8f5",
     "typedWidgetInfo": {
      "autoCreated": false,
      "defaultValue": "-1",
      "label": "days",
      "name": "days",
      "options": {
       "widgetDisplayType": "Text",
       "validationRegex": null
      },
      "parameterDataType": "Integer"
     },
     "widgetInfo": {
      "widgetType": "text",
      "defaultValue": "-1",
      "label": "days",
      "name": "days",
      "options": {
       "widgetType": "text",
       "autoCreated": false,
       "validationRegex": null
      }
     }
    }
   }
  },
  "language_info": {
   "name": "sql"
  }
 },
 "nbformat": 4,
 "nbformat_minor": 0
}

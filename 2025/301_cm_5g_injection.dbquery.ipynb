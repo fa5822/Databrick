{
 "cells": [
  {
   "cell_type": "code",
   "execution_count": 0,
   "metadata": {
    "application/vnd.databricks.v1+cell": {
     "cellMetadata": {},
     "inputWidgets": {},
     "nuid": "ab7530dc-2c86-4d6c-9e9a-ea10184b085d",
     "showTitle": false,
     "tableResultSettingsMap": {},
     "title": ""
    }
   },
   "outputs": [],
   "source": [
    "\n",
    "DECLARE queryStr STRING;\n",
    "\n",
    "SET VAR queryStr = \"delete from  \"|| {{ Catalog }} ||\".v_\"|| {{ tableName }} ||\"_wide  where day_id =  date_format(date_add(now(), \"|| {{ days }} ||\"),'yyyyMMdd'); \";\n",
    "EXECUTE IMMEDIATE queryStr;\n",
    "\n",
    "SET VAR queryStr = \"\n",
    "                    insert into \"|| {{ Catalog }} ||\".v_\"|| {{ tableName }} ||\"_wide\n",
    "                    with conf_market (select cast(SUB_MARKET_ID AS INT) SUB_MARKET_ID,SUB_MARKET_NAME,REGION,Time_Offset from hive_metastore.default.vz_conf_market)\n",
    "                    select \n",
    "                    case when B.Time_Offset=-5 then  convert_timezone('UTC','America/New_York',A.request_ts_utc) \n",
    "                        when B.Time_Offset=-6 then  convert_timezone('UTC','America/Chicago',A.request_ts_utc) \n",
    "                        when B.Time_Offset=-8 then  convert_timezone('UTC','America/Los_Angeles',A.request_ts_utc) \n",
    "                    end request_ts_local,\n",
    "                    REGION,A.* from (\n",
    "                        select \n",
    "                        case \n",
    "                            when split(ne,'_')[0] = 'ACPF' and len(ne_id) =8 then left(ne_id,2)\n",
    "                            when split(ne,'_')[0] = 'ACPF' and len(ne_id) =9 then left(ne_id,3)\n",
    "                            when split(ne,'_')[0] = 'ADPF' and len(ne_id) =8 then left(ne_id,2)\n",
    "                            when split(ne,'_')[0] = 'ADPF' and len(ne_id) =9 then left(ne_id,3)    \n",
    "                            when split(ne,'_')[0] = 'ADPF' and len(ne_id) =10 then left(ne_id,2)\n",
    "                            when split(ne,'_')[0] = 'ADPF' and len(ne_id) =11 then left(ne_id,3)   \n",
    "                            when split(ne,'_')[0] = 'AUPF' and len(ne_id) =8 then left(ne_id,2)\n",
    "                            when split(ne,'_')[0] = 'AUPF' and len(ne_id) =9 then left(ne_id,3)  \n",
    "                            when split(ne,'_')[0] = 'FSU' and len(ne_id) =5 then left(ne_id,2)\n",
    "                            when split(ne,'_')[0] = 'FSU' and len(ne_id) =6 then left(ne_id,3)    \n",
    "                            when split(ne,'_')[0] = 'FSU' and len(ne_id) =8 then left(ne_id,2)\n",
    "                            when split(ne,'_')[0] = 'FSU' and len(ne_id) =9 then left(ne_id,3)   \n",
    "                            when split(ne,'_')[0] = 'FSU' and len(ne_id) =10 then left(ne_id,2)\n",
    "                            when split(ne,'_')[0] = 'FSU' and len(ne_id) =11 then left(ne_id,3)  \n",
    "                            when split(ne,'_')[0] = 'UAUPF' and len(ne_id) =10 then left(ne_id,2)\n",
    "                            when split(ne,'_')[0] = 'UAUPF' and len(ne_id) =11 then left(ne_id,3)  \n",
    "                            when split(ne,'_')[0] = 'UADPF' and len(ne_id) =10 then left(ne_id,2)\n",
    "                            when split(ne,'_')[0] = 'UADPF' and len(ne_id) =11 then left(ne_id,3)  \n",
    "                            when split(ne,'_')[0] = 'DU' then int(left(REGEXP_REPLACE(NE_NAME, '[^0-9]', ''),3))\n",
    "                        end SUB_MARKET_ID,*\n",
    "                        from \"|| {{ Catalog }} ||\".\"|| {{ tableName }} ||\"  \n",
    "                        where day_id =  date_format(date_add(now(), \"|| {{ days }} ||\"),'yyyyMMdd')\n",
    "                    ) A\n",
    "                    left join conf_market B on A.SUB_MARKET_ID=B.SUB_MARKET_ID;\n",
    "\";\n",
    "EXECUTE IMMEDIATE queryStr;\n",
    "--select *  from  invt.cm_gold.v_cm_invt_fw_5g_wide  where day_id =  date_format(date_add(now(), -1),\"yyyyMMdd\"); \n"
   ]
  }
 ],
 "metadata": {
  "application/vnd.databricks.v1+notebook": {
   "computePreferences": null,
   "dashboards": [],
   "environmentMetadata": null,
   "inputWidgetPreferences": null,
   "language": "sql",
   "notebookMetadata": {
    "sqlQueryOptions": {
     "applyAutoLimit": true,
     "catalog": "hive_metastore",
     "schema": "default"
    }
   },
   "notebookName": "301_cm_5g_injection.dbquery.ipynb",
   "widgets": {
    "Catalog": {
     "currentValue": "invt.cm_gold",
     "nuid": "03beb4cb-a3be-4a62-8d0b-88a95004d9a3",
     "typedWidgetInfo": {
      "autoCreated": false,
      "defaultValue": "invt.cm_gold",
      "label": "Catalog",
      "name": "Catalog",
      "options": {
       "widgetDisplayType": "Text",
       "validationRegex": null
      },
      "parameterDataType": "String"
     },
     "widgetInfo": {
      "widgetType": "text",
      "defaultValue": "invt.cm_gold",
      "label": "Catalog",
      "name": "Catalog",
      "options": {
       "widgetType": "text",
       "autoCreated": false,
       "validationRegex": null
      }
     }
    },
    "days": {
     "currentValue": "-2",
     "nuid": "e9a9319d-e262-4d90-ba49-b6955917295a",
     "typedWidgetInfo": {
      "autoCreated": false,
      "defaultValue": "-2",
      "label": "days",
      "name": "days",
      "options": {
       "widgetDisplayType": "Text",
       "validationRegex": null
      },
      "parameterDataType": "Integer"
     },
     "widgetInfo": {
      "widgetType": "text",
      "defaultValue": "-2",
      "label": "days",
      "name": "days",
      "options": {
       "widgetType": "text",
       "autoCreated": false,
       "validationRegex": null
      }
     }
    },
    "tableName": {
     "currentValue": "cm_changes_5g",
     "nuid": "46931163-129a-4bb6-a669-8c7918063ca4",
     "typedWidgetInfo": {
      "autoCreated": false,
      "defaultValue": "cm_changes_5g",
      "label": "tableName",
      "name": "tableName",
      "options": {
       "widgetDisplayType": "Text",
       "validationRegex": null
      },
      "parameterDataType": "String"
     },
     "widgetInfo": {
      "widgetType": "text",
      "defaultValue": "cm_changes_5g",
      "label": "tableName",
      "name": "tableName",
      "options": {
       "widgetType": "text",
       "autoCreated": false,
       "validationRegex": null
      }
     }
    }
   }
  },
  "language_info": {
   "name": "sql"
  }
 },
 "nbformat": 4,
 "nbformat_minor": 0
}

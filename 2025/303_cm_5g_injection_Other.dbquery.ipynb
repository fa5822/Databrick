{
 "cells": [
  {
   "cell_type": "code",
   "execution_count": 0,
   "metadata": {
    "application/vnd.databricks.v1+cell": {
     "cellMetadata": {},
     "inputWidgets": {},
     "nuid": "5c33a275-e938-4fc8-a550-f1aba8d39b74",
     "showTitle": false,
     "tableResultSettingsMap": {},
     "title": ""
    }
   },
   "outputs": [],
   "source": [
    "\n",
    "DECLARE queryStr STRING;\n",
    "\n",
    "SET VAR queryStr = \"delete from  \"|| :Catalog ||\".v_\"|| :tableName ||\"_wide  where day_id =  date_format(date_add(now(), \"|| :days  ||\"),'yyyyMMdd'); \";\n",
    "EXECUTE IMMEDIATE queryStr;\n",
    "\n",
    "SET VAR queryStr = \"\n",
    "                    insert into \"|| :Catalog ||\".v_\"|| :tableName ||\"_wide\n",
    "                    with conf_market (select cast(SUB_MARKET_ID AS INT) SUB_MARKET_ID,SUB_MARKET_NAME,REGION,Time_Offset from hive_metastore.default.vz_conf_market)\n",
    "                    select \n",
    "                    B.Time_Offset,\n",
    "                    case when length(ne_id)=11 and split(ne,'_')[0]='DU' then \n",
    "                            case when substring(ne_id, 4, 1)=0 then 'FR2'   when substring(ne_id, 4, 1)=9 then \n",
    "                                        case when substring(ne_id, 8, 1)=2 then 'FR1/LS3' when substring(ne_id, 8, 1)=3 then 'FR1/LS6' end\n",
    "                            end\n",
    "                    when length(ne_id)=10 and split(ne,'_')[0]='DU' then \n",
    "                            case when substring(ne_id, 3, 1)=0 then 'FR2'   when substring(ne_id, 3, 1)=9 then \n",
    "                                        case when substring(ne_id, 7, 1)=2 then 'FR1/LS3' when substring(ne_id, 7, 1)=3 then 'FR1/LS6' end\n",
    "                            end\n",
    "                    else '' end NR_TYPE,\n",
    "                    REGION,A.* from (\n",
    "                        select \n",
    "                        case \n",
    "                            when split(ne,'_')[0] = 'ACPF' and len(ne_id) =8 then left(ne_id,2)\n",
    "                            when split(ne,'_')[0] = 'ACPF' and len(ne_id) =9 then left(ne_id,3)\n",
    "                            when split(ne,'_')[0] = 'ADPF' and len(ne_id) =8 then left(ne_id,2)\n",
    "                            when split(ne,'_')[0] = 'ADPF' and len(ne_id) =9 then left(ne_id,3)    \n",
    "                            when split(ne,'_')[0] = 'ADPF' and len(ne_id) =10 then left(ne_id,2)\n",
    "                            when split(ne,'_')[0] = 'ADPF' and len(ne_id) =11 then left(ne_id,3)   \n",
    "                            when split(ne,'_')[0] = 'AUPF' and len(ne_id) =8 then left(ne_id,2)\n",
    "                            when split(ne,'_')[0] = 'AUPF' and len(ne_id) =9 then left(ne_id,3)  \n",
    "                            when split(ne,'_')[0] = 'FSU' and len(ne_id) =5 then left(ne_id,2)\n",
    "                            when split(ne,'_')[0] = 'FSU' and len(ne_id) =6 then left(ne_id,3)    \n",
    "                            when split(ne,'_')[0] = 'FSU' and len(ne_id) =8 then left(ne_id,2)\n",
    "                            when split(ne,'_')[0] = 'FSU' and len(ne_id) =9 then left(ne_id,3)   \n",
    "                            when split(ne,'_')[0] = 'FSU' and len(ne_id) =10 then left(ne_id,2)\n",
    "                            when split(ne,'_')[0] = 'FSU' and len(ne_id) =11 then left(ne_id,3)  \n",
    "                            when split(ne,'_')[0] = 'UAUPF' and len(ne_id) =10 then left(ne_id,2)\n",
    "                            when split(ne,'_')[0] = 'UAUPF' and len(ne_id) =11 then left(ne_id,3)  \n",
    "                            when split(ne,'_')[0] = 'UADPF' and len(ne_id) =10 then left(ne_id,2)\n",
    "                            when split(ne,'_')[0] = 'UADPF' and len(ne_id) =11 then left(ne_id,3)  \n",
    "                            when split(ne,'_')[0] = 'DU' then int(left(REGEXP_REPLACE(NE_NAME, '[^0-9]', ''),3))\n",
    "                        end SUB_MARKET_ID,*\n",
    "                        from \"|| :Catalog ||\".\"|| :tableName ||\"  \n",
    "                        where day_id =  date_format(date_add(now(), \"|| :days  ||\"),'yyyyMMdd')\n",
    "                    ) A\n",
    "                    left join conf_market B on A.SUB_MARKET_ID=B.SUB_MARKET_ID;\n",
    "\";\n",
    "EXECUTE IMMEDIATE queryStr;\n",
    "--select *  from  invt.cm_gold.v_cm_invt_fw_5g_wide  where day_id =  date_format(date_add(now(), -1),\"yyyyMMdd\"); \n"
   ]
  }
 ],
 "metadata": {
  "application/vnd.databricks.v1+notebook": {
   "computePreferences": null,
   "dashboards": [],
   "environmentMetadata": null,
   "inputWidgetPreferences": null,
   "language": "sql",
   "notebookMetadata": {
    "sqlQueryOptions": {
     "applyAutoLimit": false,
     "catalog": "hive_metastore",
     "schema": "default"
    }
   },
   "notebookName": "303_cm_5g_injection_Other.dbquery.ipynb",
   "widgets": {
    "Catalog": {
     "currentValue": "",
     "nuid": "1883e2f1-ee16-44e4-aac9-05098840f4e7",
     "typedWidgetInfo": {
      "autoCreated": true,
      "defaultValue": "",
      "label": null,
      "name": "Catalog",
      "options": {
       "widgetDisplayType": "Text",
       "validationRegex": null
      },
      "parameterDataType": "String"
     },
     "widgetInfo": {
      "widgetType": "text",
      "defaultValue": "",
      "label": null,
      "name": "Catalog",
      "options": {
       "widgetType": "text",
       "autoCreated": true,
       "validationRegex": null
      }
     }
    },
    "days": {
     "currentValue": "",
     "nuid": "aa0d541f-521d-4fab-a046-200c5c7c2336",
     "typedWidgetInfo": {
      "autoCreated": true,
      "defaultValue": "",
      "label": null,
      "name": "days",
      "options": {
       "widgetDisplayType": "Text",
       "validationRegex": null
      },
      "parameterDataType": "String"
     },
     "widgetInfo": {
      "widgetType": "text",
      "defaultValue": "",
      "label": null,
      "name": "days",
      "options": {
       "widgetType": "text",
       "autoCreated": true,
       "validationRegex": null
      }
     }
    },
    "tableName": {
     "currentValue": "",
     "nuid": "d600dd10-9a72-4178-85b7-0c2772f91a8a",
     "typedWidgetInfo": {
      "autoCreated": true,
      "defaultValue": "",
      "label": null,
      "name": "tableName",
      "options": {
       "widgetDisplayType": "Text",
       "validationRegex": null
      },
      "parameterDataType": "String"
     },
     "widgetInfo": {
      "widgetType": "text",
      "defaultValue": "",
      "label": null,
      "name": "tableName",
      "options": {
       "widgetType": "text",
       "autoCreated": true,
       "validationRegex": null
      }
     }
    }
   }
  },
  "language_info": {
   "name": "sql"
  }
 },
 "nbformat": 4,
 "nbformat_minor": 0
}

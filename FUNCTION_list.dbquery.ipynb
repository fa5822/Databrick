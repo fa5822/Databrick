{
 "cells": [
  {
   "cell_type": "code",
   "execution_count": 0,
   "metadata": {
    "application/vnd.databricks.v1+cell": {
     "cellMetadata": {
      "byteLimit": 10485760,
      "rowLimit": 1000
     },
     "inputWidgets": {},
     "nuid": "f3785782-7bdd-4d88-bb99-4a34f8df4c12",
     "showTitle": false,
     "tableResultSettingsMap": {},
     "title": ""
    }
   },
   "outputs": [],
   "source": [
    "\n",
    "--show user functions ;\n",
    "\n",
    "--DESCRIBE FUNCTION EXTENDED  hive_metastore.default.check_nan;\n",
    "\n",
    "--CREATE or replace FUNCTION Check_NaN(x STRING) RETURN case when x ='NaN' then null else cast( x as int) end;\n",
    "\n",
    "\n",
    "--CREATE or replace FUNCTION Fixed2Json(x STRING) RETURN regexp_replace(regexp_replace(regexp_replace(regexp_replace(regexp_replace(regexp_replace(regexp_replace(regexp_replace(regexp_replace(regexp_replace(regexp_replace(regexp_replace(regexp_replace(x,\"\\\"\\\"\" ,\"\\\"NA\\\"\"),\"\\\\s+\" ,\"\"),\"\\\"\\\"\", \"\\\",\\\"\"),\"\\\"faultFields\\\"\", \",\\\"faultFields\\\"\"),\"\\\"nfNamingCode\\\"\", \",\\\"nfNamingCode\\\"\"),\"\\\"sourceId\\\"\", \",\\\"sourceId\\\"\"),\"\\\"timeZoneOffset\\\"\", \",\\\"timeZoneOffset\\\"\"),\"\\\"notificationFields\\\"\", \",\\\"notificationFields\\\"\"),\"\\\"alarmCondition\\\"\", \",\\\"alarmCondition\\\"\"),\"\\\"changeIdentifier\\\"\", \",\\\"changeIdentifier\\\"\"),\"\\\"sourceName\\\"\", \",\\\"sourceName\\\"\"),\"\\\"eventCategory\\\"\", \",\\\"eventCategory\\\"\"),\",,\",\",\") ;\n"
   ]
  }
 ],
 "metadata": {
  "application/vnd.databricks.v1+notebook": {
   "computePreferences": null,
   "dashboards": [],
   "environmentMetadata": null,
   "inputWidgetPreferences": null,
   "language": "sql",
   "notebookMetadata": {
    "sqlQueryOptions": {
     "applyAutoLimit": true,
     "catalog": "hive_metastore",
     "schema": "default"
    }
   },
   "notebookName": "FUNCTION_list.dbquery.ipynb",
   "widgets": {}
  },
  "language_info": {
   "name": "sql"
  }
 },
 "nbformat": 4,
 "nbformat_minor": 0
}
